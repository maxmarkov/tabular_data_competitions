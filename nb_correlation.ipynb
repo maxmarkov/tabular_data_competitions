{
 "cells": [
  {
   "cell_type": "markdown",
   "metadata": {},
   "source": [
    "# Correlation class in utils\n",
    "\n",
    "The purpose of this class is to demonstrate the tools implemented in the Correlation class in utils/utils.py"
   ]
  },
  {
   "cell_type": "code",
   "execution_count": 1,
   "metadata": {},
   "outputs": [],
   "source": [
    "import pandas as pd\n",
    "from utils.utils import Correlation"
   ]
  },
  {
   "cell_type": "markdown",
   "metadata": {},
   "source": [
    "Load some data"
   ]
  },
  {
   "cell_type": "code",
   "execution_count": 2,
   "metadata": {},
   "outputs": [
    {
     "data": {
      "text/html": [
       "<div>\n",
       "<style scoped>\n",
       "    .dataframe tbody tr th:only-of-type {\n",
       "        vertical-align: middle;\n",
       "    }\n",
       "\n",
       "    .dataframe tbody tr th {\n",
       "        vertical-align: top;\n",
       "    }\n",
       "\n",
       "    .dataframe thead th {\n",
       "        text-align: right;\n",
       "    }\n",
       "</style>\n",
       "<table border=\"1\" class=\"dataframe\">\n",
       "  <thead>\n",
       "    <tr style=\"text-align: right;\">\n",
       "      <th></th>\n",
       "      <th>No</th>\n",
       "      <th>time_played</th>\n",
       "      <th>position</th>\n",
       "      <th>height</th>\n",
       "      <th>weight</th>\n",
       "      <th>salary</th>\n",
       "      <th>nth_year</th>\n",
       "      <th>nationality</th>\n",
       "      <th>j1_total_num_played</th>\n",
       "      <th>j1_total_scores</th>\n",
       "      <th>...</th>\n",
       "      <th>j12_total_scores</th>\n",
       "      <th>j1na_total_scores</th>\n",
       "      <th>prev12_num_played</th>\n",
       "      <th>prev123_num_played</th>\n",
       "      <th>prev12_scores</th>\n",
       "      <th>prev123_scores</th>\n",
       "      <th>prev12_time_played</th>\n",
       "      <th>prev123_time_played</th>\n",
       "      <th>prev12_div</th>\n",
       "      <th>prev123_div</th>\n",
       "    </tr>\n",
       "  </thead>\n",
       "  <tbody>\n",
       "    <tr>\n",
       "      <th>0</th>\n",
       "      <td>2.0</td>\n",
       "      <td>2533.0</td>\n",
       "      <td>DF</td>\n",
       "      <td>180.0</td>\n",
       "      <td>76.0</td>\n",
       "      <td>5000.0</td>\n",
       "      <td>11.0</td>\n",
       "      <td>other</td>\n",
       "      <td>305.0</td>\n",
       "      <td>4.0</td>\n",
       "      <td>...</td>\n",
       "      <td>22.5</td>\n",
       "      <td>4.0</td>\n",
       "      <td>68</td>\n",
       "      <td>102</td>\n",
       "      <td>0</td>\n",
       "      <td>1</td>\n",
       "      <td>5909.0</td>\n",
       "      <td>8969.0</td>\n",
       "      <td>2</td>\n",
       "      <td>3</td>\n",
       "    </tr>\n",
       "    <tr>\n",
       "      <th>1</th>\n",
       "      <td>3.0</td>\n",
       "      <td>2865.0</td>\n",
       "      <td>DF</td>\n",
       "      <td>183.0</td>\n",
       "      <td>79.0</td>\n",
       "      <td>6000.0</td>\n",
       "      <td>7.0</td>\n",
       "      <td>other</td>\n",
       "      <td>234.0</td>\n",
       "      <td>19.0</td>\n",
       "      <td>...</td>\n",
       "      <td>37.5</td>\n",
       "      <td>21.0</td>\n",
       "      <td>65</td>\n",
       "      <td>98</td>\n",
       "      <td>8</td>\n",
       "      <td>9</td>\n",
       "      <td>5804.0</td>\n",
       "      <td>8774.0</td>\n",
       "      <td>2</td>\n",
       "      <td>3</td>\n",
       "    </tr>\n",
       "    <tr>\n",
       "      <th>2</th>\n",
       "      <td>4.0</td>\n",
       "      <td>1087.0</td>\n",
       "      <td>MF</td>\n",
       "      <td>184.0</td>\n",
       "      <td>75.0</td>\n",
       "      <td>2800.0</td>\n",
       "      <td>7.0</td>\n",
       "      <td>other</td>\n",
       "      <td>129.0</td>\n",
       "      <td>10.0</td>\n",
       "      <td>...</td>\n",
       "      <td>26.0</td>\n",
       "      <td>10.0</td>\n",
       "      <td>61</td>\n",
       "      <td>93</td>\n",
       "      <td>7</td>\n",
       "      <td>9</td>\n",
       "      <td>4871.0</td>\n",
       "      <td>7489.0</td>\n",
       "      <td>2</td>\n",
       "      <td>3</td>\n",
       "    </tr>\n",
       "    <tr>\n",
       "      <th>3</th>\n",
       "      <td>5.0</td>\n",
       "      <td>2925.0</td>\n",
       "      <td>DF</td>\n",
       "      <td>182.0</td>\n",
       "      <td>75.0</td>\n",
       "      <td>1500.0</td>\n",
       "      <td>4.0</td>\n",
       "      <td>other</td>\n",
       "      <td>23.0</td>\n",
       "      <td>0.0</td>\n",
       "      <td>...</td>\n",
       "      <td>20.5</td>\n",
       "      <td>0.0</td>\n",
       "      <td>61</td>\n",
       "      <td>61</td>\n",
       "      <td>2</td>\n",
       "      <td>2</td>\n",
       "      <td>5143.0</td>\n",
       "      <td>5143.0</td>\n",
       "      <td>1</td>\n",
       "      <td>2</td>\n",
       "    </tr>\n",
       "    <tr>\n",
       "      <th>4</th>\n",
       "      <td>6.0</td>\n",
       "      <td>1080.0</td>\n",
       "      <td>DF</td>\n",
       "      <td>176.0</td>\n",
       "      <td>70.0</td>\n",
       "      <td>380.0</td>\n",
       "      <td>1.0</td>\n",
       "      <td>other</td>\n",
       "      <td>0.0</td>\n",
       "      <td>0.0</td>\n",
       "      <td>...</td>\n",
       "      <td>0.0</td>\n",
       "      <td>0.0</td>\n",
       "      <td>0</td>\n",
       "      <td>0</td>\n",
       "      <td>0</td>\n",
       "      <td>0</td>\n",
       "      <td>0.0</td>\n",
       "      <td>0.0</td>\n",
       "      <td>1</td>\n",
       "      <td>1</td>\n",
       "    </tr>\n",
       "  </tbody>\n",
       "</table>\n",
       "<p>5 rows × 44 columns</p>\n",
       "</div>"
      ],
      "text/plain": [
       "    No  time_played position  height  weight  salary  nth_year nationality  \\\n",
       "0  2.0       2533.0       DF   180.0    76.0  5000.0      11.0       other   \n",
       "1  3.0       2865.0       DF   183.0    79.0  6000.0       7.0       other   \n",
       "2  4.0       1087.0       MF   184.0    75.0  2800.0       7.0       other   \n",
       "3  5.0       2925.0       DF   182.0    75.0  1500.0       4.0       other   \n",
       "4  6.0       1080.0       DF   176.0    70.0   380.0       1.0       other   \n",
       "\n",
       "   j1_total_num_played  j1_total_scores  ...  j12_total_scores  \\\n",
       "0                305.0              4.0  ...              22.5   \n",
       "1                234.0             19.0  ...              37.5   \n",
       "2                129.0             10.0  ...              26.0   \n",
       "3                 23.0              0.0  ...              20.5   \n",
       "4                  0.0              0.0  ...               0.0   \n",
       "\n",
       "   j1na_total_scores  prev12_num_played  prev123_num_played  prev12_scores  \\\n",
       "0                4.0                 68                 102              0   \n",
       "1               21.0                 65                  98              8   \n",
       "2               10.0                 61                  93              7   \n",
       "3                0.0                 61                  61              2   \n",
       "4                0.0                  0                   0              0   \n",
       "\n",
       "   prev123_scores  prev12_time_played  prev123_time_played  prev12_div  \\\n",
       "0               1              5909.0               8969.0           2   \n",
       "1               9              5804.0               8774.0           2   \n",
       "2               9              4871.0               7489.0           2   \n",
       "3               2              5143.0               5143.0           1   \n",
       "4               0                 0.0                  0.0           1   \n",
       "\n",
       "   prev123_div  \n",
       "0            3  \n",
       "1            3  \n",
       "2            3  \n",
       "3            2  \n",
       "4            1  \n",
       "\n",
       "[5 rows x 44 columns]"
      ]
     },
     "execution_count": 2,
     "metadata": {},
     "output_type": "execute_result"
    }
   ],
   "source": [
    "FOLDER = 'jleague_nishika/data_clean'\n",
    "\n",
    "train_data = pd.read_csv(FOLDER+'/nishika_train.csv',index_col=0)\n",
    "test_data = pd.read_csv(FOLDER+'/nishika_test.csv',index_col=0)\n",
    "\n",
    "train_data.head(5)"
   ]
  },
  {
   "cell_type": "code",
   "execution_count": 3,
   "metadata": {},
   "outputs": [
    {
     "data": {
      "text/plain": [
       "Index(['No', 'time_played', 'position', 'height', 'weight', 'salary',\n",
       "       'nth_year', 'nationality', 'j1_total_num_played', 'j1_total_scores',\n",
       "       'j2_total_num_played', 'j2_total_scores', 'j3_total_num_played',\n",
       "       'j3_total_scores', 'na_total_num_played', 'na_total_scores',\n",
       "       'prev3_div', 'prev2_div', 'prev1_div', 'prev3_num_played',\n",
       "       'prev2_num_played', 'prev1_num_played', 'prev3_scores', 'prev2_scores',\n",
       "       'prev1_scores', 'prev3_time_played', 'prev2_time_played',\n",
       "       'prev1_time_played', 'age', 'place_prev_season', 'is_youth', 'is_old',\n",
       "       'j12_total_num_played', 'j1na_total_num_played', 'j12_total_scores',\n",
       "       'j1na_total_scores', 'prev12_num_played', 'prev123_num_played',\n",
       "       'prev12_scores', 'prev123_scores', 'prev12_time_played',\n",
       "       'prev123_time_played', 'prev12_div', 'prev123_div'],\n",
       "      dtype='object')"
      ]
     },
     "execution_count": 3,
     "metadata": {},
     "output_type": "execute_result"
    }
   ],
   "source": [
    "train_data.columns"
   ]
  },
  {
   "cell_type": "markdown",
   "metadata": {},
   "source": [
    "Compute correlation matrix for several columns and visualize them using seaborn.\n",
    "\n",
    "To create the instance of the Correlation class we pass DataFrame and the list of selected columns."
   ]
  },
  {
   "cell_type": "code",
   "execution_count": 4,
   "metadata": {},
   "outputs": [
    {
     "data": {
      "image/png": "[encoded data removed]",
      "text/plain": [
       "<Figure size 1080x720 with 2 Axes>"
      ]
     },
     "metadata": {
      "needs_background": "light"
     },
     "output_type": "display_data"
    }
   ],
   "source": [
    "# instance of the Correlation class\n",
    "c = Correlation(train_data, columns=['height', 'weight', 'salary', 'age'])\n",
    "\n",
    "# show the correlation matrix using seaborn\n",
    "c.show_correlation_matrix()"
   ]
  },
  {
   "cell_type": "markdown",
   "metadata": {},
   "source": [
    "Show the most correlated features with the Pearson coefficient greater than threshold"
   ]
  },
  {
   "cell_type": "code",
   "execution_count": 5,
   "metadata": {},
   "outputs": [
    {
     "data": {
      "text/plain": [
       "{'height': {'weight': 0.848}, 'weight': {'height': 0.848}}"
      ]
     },
     "execution_count": 5,
     "metadata": {},
     "output_type": "execute_result"
    }
   ],
   "source": [
    "c.most_correlated_features(threshold=0.75)"
   ]
  },
  {
   "cell_type": "markdown",
   "metadata": {},
   "source": [
    "Visualize the feature distribution as a function of target (or another feature)"
   ]
  },
  {
   "cell_type": "code",
   "execution_count": 6,
   "metadata": {},
   "outputs": [
    {
     "name": "stdout",
     "output_type": "stream",
     "text": [
      "2970.0\n"
     ]
    },
    {
     "data": {
      "image/png": "[encoded data removed]",
      "text/plain": [
       "<Figure size 1080x360 with 2 Axes>"
      ]
     },
     "metadata": {
      "needs_background": "light"
     },
     "output_type": "display_data"
    }
   ],
   "source": [
    "c.plot_feature_vs_target(feature='salary',target='time_played')"
   ]
  },
  {
   "cell_type": "code",
   "execution_count": null,
   "metadata": {},
   "outputs": [],
   "source": []
  },
  {
   "cell_type": "code",
   "execution_count": 7,
   "metadata": {},
   "outputs": [],
   "source": [
    "names_cont = ['No', 'height', 'weight', 'salary', 'nth_year', 'age', 'j1_total_num_played', 'j1_total_scores', 'j2_total_num_played', 'j2_total_scores', 'j3_total_num_played', 'j3_total_scores',\n",
    "              'na_total_num_played', 'na_total_scores', 'prev1_num_played', 'prev2_num_played', 'prev3_num_played', 'prev1_scores', 'prev2_scores', 'prev3_scores',\n",
    "              'prev1_time_played', 'prev2_time_played', 'prev3_time_played', 'j12_total_num_played', 'j1na_total_num_played', 'j12_total_scores', 'j1na_total_scores',\n",
    "              'prev12_num_played', 'prev123_num_played', 'prev12_scores', 'prev123_scores', 'prev12_time_played', 'prev123_time_played']"
   ]
  }
 ],
 "metadata": {
  "kernelspec": {
   "display_name": "Python 3",
   "language": "python",
   "name": "python3"
  },
  "language_info": {
   "codemirror_mode": {
    "name": "ipython",
    "version": 3
   },
   "file_extension": ".py",
   "mimetype": "text/x-python",
   "name": "python",
   "nbconvert_exporter": "python",
   "pygments_lexer": "ipython3",
   "version": "3.7.3"
  }
 },
 "nbformat": 4,
 "nbformat_minor": 4
}
